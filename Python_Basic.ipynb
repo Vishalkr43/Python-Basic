{
  "nbformat": 4,
  "nbformat_minor": 0,
  "metadata": {
    "colab": {
      "provenance": []
    },
    "kernelspec": {
      "name": "python3",
      "display_name": "Python 3"
    },
    "language_info": {
      "name": "python"
    }
  },
  "cells": [
    {
      "cell_type": "code",
      "source": [
        "#Python Basics Questions"
      ],
      "metadata": {
        "id": "7f7Wj-1s04EF"
      },
      "execution_count": 34,
      "outputs": []
    },
    {
      "cell_type": "code",
      "execution_count": 2,
      "metadata": {
        "colab": {
          "base_uri": "https://localhost:8080/",
          "height": 53
        },
        "id": "nsxTDNTiag_G",
        "outputId": "4c0c8315-3493-44d2-b884-e33c80655aa5"
      },
      "outputs": [
        {
          "output_type": "execute_result",
          "data": {
            "text/plain": [
              "'Python is a high-level interpreted, and general-purpose programming language. it is popular because of its simplicity, readability, vast library support,and versatility, making it suitable for web development, data analysis, artificial intelligence, scientific computing, and more. '"
            ],
            "application/vnd.google.colaboratory.intrinsic+json": {
              "type": "string"
            }
          },
          "metadata": {},
          "execution_count": 2
        }
      ],
      "source": [
        "# 1. What is Python, why is it popular?\n",
        "'''Python is a high-level interpreted, and general-purpose programming language. it is popular because of its simplicity, readability, vast library support,and versatility, making it suitable for web development, data analysis, artificial intelligence, scientific computing, and more. '''\n"
      ]
    },
    {
      "cell_type": "code",
      "source": [
        "# 2. What is an interpreter in Python?\n",
        "'''An interpreter is a program that executes Python code line by line, converting it into machine-readable instructions. Python uses an interpreter instead of a compiler, making it easier to debug and test.'''"
      ],
      "metadata": {
        "colab": {
          "base_uri": "https://localhost:8080/",
          "height": 53
        },
        "id": "44qH9vIhcSL7",
        "outputId": "ea44dc16-0d7e-4a66-f7c5-a29a33c20782"
      },
      "execution_count": 28,
      "outputs": [
        {
          "output_type": "execute_result",
          "data": {
            "text/plain": [
              "'An interpreter is a program that executes Python code line by line, converting it into machine-readable instructions. Python uses an interpreter instead of a compiler, making it easier to debug and test.'"
            ],
            "application/vnd.google.colaboratory.intrinsic+json": {
              "type": "string"
            }
          },
          "metadata": {},
          "execution_count": 28
        }
      ]
    },
    {
      "cell_type": "code",
      "source": [
        "# 3. What is pre-defined keywords in Python?\n",
        "'''Pre-defined keywords are reserved words in Python that have specific meanings and purposes. Examples include if, else, while, for, break, continue, def,return, etc. These cannot be used as variable names.'''"
      ],
      "metadata": {
        "colab": {
          "base_uri": "https://localhost:8080/",
          "height": 53
        },
        "id": "nGbnM91pdlLQ",
        "outputId": "4f357795-8409-46f9-b7f9-5ed961794a03"
      },
      "execution_count": 27,
      "outputs": [
        {
          "output_type": "execute_result",
          "data": {
            "text/plain": [
              "'Pre-defined keywords are reserved words in Python that have specific meanings and purposes. Examples include if, else, while, for, break, continue, def,return, etc. These cannot be used as variable names.'"
            ],
            "application/vnd.google.colaboratory.intrinsic+json": {
              "type": "string"
            }
          },
          "metadata": {},
          "execution_count": 27
        }
      ]
    },
    {
      "cell_type": "code",
      "source": [
        "# 4. Can keywords be used as variable names?\n",
        "'''No, keywords cannot be used as variable names because they are reserved for specifc purposes in the Python syntax.'''"
      ],
      "metadata": {
        "colab": {
          "base_uri": "https://localhost:8080/",
          "height": 35
        },
        "id": "Xrp4Bcareh7W",
        "outputId": "c8cbc117-3025-4909-8a93-13218788d4f3"
      },
      "execution_count": 6,
      "outputs": [
        {
          "output_type": "execute_result",
          "data": {
            "text/plain": [
              "'No, keywords cannot be used as variable names because they are reserved for specifc purposes in the Python syntax.'"
            ],
            "application/vnd.google.colaboratory.intrinsic+json": {
              "type": "string"
            }
          },
          "metadata": {},
          "execution_count": 6
        }
      ]
    },
    {
      "cell_type": "code",
      "source": [
        "# 5. What is mutability in Python?\n",
        "'''Mutability refers to the ability of an object to change its content after it has been created. Mutable objects can be modified, while immutable objects\n",
        "cannot.'''"
      ],
      "metadata": {
        "colab": {
          "base_uri": "https://localhost:8080/",
          "height": 53
        },
        "id": "1OmcVDclfPIl",
        "outputId": "8c1a4563-ffab-473f-8857-b19a5af667f3"
      },
      "execution_count": 7,
      "outputs": [
        {
          "output_type": "execute_result",
          "data": {
            "text/plain": [
              "'Mutability refers to the ability of an object to change its content after it has been created. Mutable objects can be modified, while immutable objects \\ncannot.'"
            ],
            "application/vnd.google.colaboratory.intrinsic+json": {
              "type": "string"
            }
          },
          "metadata": {},
          "execution_count": 7
        }
      ]
    },
    {
      "cell_type": "code",
      "source": [
        "# 6. Why are lists mutable, but tuples are immutable?\n",
        "'''Lists are mutable because they are designed to be dynamic and flexible, allowing modifications like adding, removing, or updating elements. Tuples are immutable to ensure data consistency and make them hashable, enabling their use as keys in dictionaries.'''"
      ],
      "metadata": {
        "colab": {
          "base_uri": "https://localhost:8080/",
          "height": 53
        },
        "id": "t53JNf1pf9hO",
        "outputId": "656f064f-09a4-440f-e0e8-c6eeda3d898d"
      },
      "execution_count": 26,
      "outputs": [
        {
          "output_type": "execute_result",
          "data": {
            "text/plain": [
              "'Lists are mutable because they are designed to be dynamic and flexible, allowing modifications like adding, removing, or updating elements. Tuples are immutable to ensure data consistency and make them hashable, enabling their use as keys in dictionaries.'"
            ],
            "application/vnd.google.colaboratory.intrinsic+json": {
              "type": "string"
            }
          },
          "metadata": {},
          "execution_count": 26
        }
      ]
    },
    {
      "cell_type": "code",
      "source": [
        "# 7. What is the difference between '==' and is 'is' operators in python?\n",
        "'''== checks if the values of two objects are equal. while 'is' checks if two objects refer to the same memory location (i.e., if they are the same object).'''"
      ],
      "metadata": {
        "colab": {
          "base_uri": "https://localhost:8080/",
          "height": 35
        },
        "id": "ghvVZ9_Eg57_",
        "outputId": "25745686-a65d-4846-c0dd-2aa5fd2651cc"
      },
      "execution_count": 8,
      "outputs": [
        {
          "output_type": "execute_result",
          "data": {
            "text/plain": [
              "\"== checks if the values of two objects are equal. while 'is' checks if two objects refer to the same memory location (i.e., if they are the same object).\""
            ],
            "application/vnd.google.colaboratory.intrinsic+json": {
              "type": "string"
            }
          },
          "metadata": {},
          "execution_count": 8
        }
      ]
    },
    {
      "cell_type": "code",
      "source": [
        "# 8. What are logical operators in Python?\n",
        "'''Logical operators are used to perform logical operations;and: Returns True if both conditions are True,or: Returns True if at least one condition is True,not: Negates the truth value.'''"
      ],
      "metadata": {
        "colab": {
          "base_uri": "https://localhost:8080/",
          "height": 53
        },
        "id": "Zf5mcZ8mh9vo",
        "outputId": "8149f097-5a83-469b-e711-799e77d847a0"
      },
      "execution_count": 12,
      "outputs": [
        {
          "output_type": "execute_result",
          "data": {
            "text/plain": [
              "'Logical operators are used to perform logical operations;and: Returns True if both conditions are True,or: Returns True if at least one condition is True,not: Negates the truth value.'"
            ],
            "application/vnd.google.colaboratory.intrinsic+json": {
              "type": "string"
            }
          },
          "metadata": {},
          "execution_count": 12
        }
      ]
    },
    {
      "cell_type": "code",
      "source": [
        "# 9. What is type casting in Python?\n",
        "'''Type casting is the process of converting one data type to another. It can be done using built-in functions like int(), float(), str(), list(), etc.'''"
      ],
      "metadata": {
        "colab": {
          "base_uri": "https://localhost:8080/",
          "height": 35
        },
        "id": "syVycx0jjPX6",
        "outputId": "7ce2680d-3020-44ab-da7f-4341868efa50"
      },
      "execution_count": 13,
      "outputs": [
        {
          "output_type": "execute_result",
          "data": {
            "text/plain": [
              "'Type casting is the process of converting one data type to another. It can be done using built-in functions like int(), float(), str(), list(), etc.'"
            ],
            "application/vnd.google.colaboratory.intrinsic+json": {
              "type": "string"
            }
          },
          "metadata": {},
          "execution_count": 13
        }
      ]
    },
    {
      "cell_type": "code",
      "source": [
        "# 10. What is the difference between implicit and explicit type casting?\n",
        "'''Implicit type casting: Python automatically converts one data type to another(e.g., int to float). Explicit type casting: The programmer manually converts a data type using functions like int() float(), or str().'''"
      ],
      "metadata": {
        "colab": {
          "base_uri": "https://localhost:8080/",
          "height": 53
        },
        "id": "l6JAhr69pckm",
        "outputId": "07f3fcad-a60f-4f3a-82f9-e8e9c8dc96f0"
      },
      "execution_count": 21,
      "outputs": [
        {
          "output_type": "execute_result",
          "data": {
            "text/plain": [
              "'Implicit type casting: Python automatically converts one data type to another(e.g., int to float). Explicit type casting: The programmer manually converts a data type using functions like int() float(), or str().'"
            ],
            "application/vnd.google.colaboratory.intrinsic+json": {
              "type": "string"
            }
          },
          "metadata": {},
          "execution_count": 21
        }
      ]
    },
    {
      "cell_type": "code",
      "source": [
        "# 11. What is the purpose of conditional statements in Python?\n",
        "'''Conditional statements allow decision-making in a program by executing different blocks of code based on wheather a condition is True or False. Examples include if, elif, and else.'''"
      ],
      "metadata": {
        "colab": {
          "base_uri": "https://localhost:8080/",
          "height": 53
        },
        "id": "QUWqMwjqwGNj",
        "outputId": "3fc74793-2e77-43d6-bf32-6379c185b4cb"
      },
      "execution_count": 22,
      "outputs": [
        {
          "output_type": "execute_result",
          "data": {
            "text/plain": [
              "'Conditional statements allow decision-making in a program by executing different blocks of code based on wheather a condition is True or False. Examples include if, elif, and else.'"
            ],
            "application/vnd.google.colaboratory.intrinsic+json": {
              "type": "string"
            }
          },
          "metadata": {},
          "execution_count": 22
        }
      ]
    },
    {
      "cell_type": "code",
      "source": [
        "# 12. How does the elif statement work?\n",
        "'''The elif statement checks multiple conditions. If the if condition is False, the program evaluates elif conditions sequentially until one is True, or it defaults to else if no conditions are met.'''"
      ],
      "metadata": {
        "colab": {
          "base_uri": "https://localhost:8080/",
          "height": 53
        },
        "id": "V-LStPBqxaTr",
        "outputId": "76dd4686-d56a-47a6-e578-994c8a2bf689"
      },
      "execution_count": 18,
      "outputs": [
        {
          "output_type": "execute_result",
          "data": {
            "text/plain": [
              "'The elif statement checks multiple conditions. If the if condition is False, the program evaluates elif conditions sequentially until one is True, or it defaults to else if no conditions are met.'"
            ],
            "application/vnd.google.colaboratory.intrinsic+json": {
              "type": "string"
            }
          },
          "metadata": {},
          "execution_count": 18
        }
      ]
    },
    {
      "cell_type": "code",
      "source": [
        "# 13. What is the difference between for and while loops?\n",
        "'''for loops literate over a sequence (like list, tuple, or range) a fixed number of times. while loops as a condition is True, making them useful for unknown iteration counts.'''"
      ],
      "metadata": {
        "colab": {
          "base_uri": "https://localhost:8080/",
          "height": 53
        },
        "id": "672nxCe4ye7d",
        "outputId": "2f25e286-dfec-45e4-a907-05976fa927d4"
      },
      "execution_count": 24,
      "outputs": [
        {
          "output_type": "execute_result",
          "data": {
            "text/plain": [
              "'for loops literate over a sequence (like list, tuple, or range) a fixed number of times. while loops as a condition is True, making them useful for unknown iteration counts.'"
            ],
            "application/vnd.google.colaboratory.intrinsic+json": {
              "type": "string"
            }
          },
          "metadata": {},
          "execution_count": 24
        }
      ]
    },
    {
      "cell_type": "code",
      "source": [
        "# 14. Describe a scenario where a while loop is more suitable than a for loop.\n",
        "'''A while loop is more suitable when the number of iterations is not known in advance, such as reading input until the user enters a specific keyword or iterating until a condition is met dynamically.'''"
      ],
      "metadata": {
        "colab": {
          "base_uri": "https://localhost:8080/",
          "height": 53
        },
        "id": "_rUy1hy1z1JO",
        "outputId": "4fb1ab67-cc0a-412e-ca8f-0f4d9839cbcd"
      },
      "execution_count": 29,
      "outputs": [
        {
          "output_type": "execute_result",
          "data": {
            "text/plain": [
              "'A while loop is more suitable when the number of iterations is not known in advance, such as reading input until the user enters a specific keyword or iterating until a condition is met dynamically.'"
            ],
            "application/vnd.google.colaboratory.intrinsic+json": {
              "type": "string"
            }
          },
          "metadata": {},
          "execution_count": 29
        }
      ]
    },
    {
      "cell_type": "code",
      "source": [
        "#Python Practical Questions"
      ],
      "metadata": {
        "id": "6pKc48mC1TEk"
      },
      "execution_count": 35,
      "outputs": []
    },
    {
      "cell_type": "code",
      "source": [
        "# 1. Write a Python program to print \"Hello, World!\"\n"
      ],
      "metadata": {
        "id": "wW9J9Zim1ch6"
      },
      "execution_count": 37,
      "outputs": []
    },
    {
      "cell_type": "code",
      "source": [
        "print(\"Hello, World!\")"
      ],
      "metadata": {
        "colab": {
          "base_uri": "https://localhost:8080/"
        },
        "id": "OFQIrOEL3BbU",
        "outputId": "974ded44-d575-4796-dcd4-704bc0934661"
      },
      "execution_count": 38,
      "outputs": [
        {
          "output_type": "stream",
          "name": "stdout",
          "text": [
            "Hello, World!\n"
          ]
        }
      ]
    },
    {
      "cell_type": "code",
      "source": [
        "# 2. Write a Python program that displays your name and age."
      ],
      "metadata": {
        "id": "LkQyPmKo3SgO"
      },
      "execution_count": null,
      "outputs": []
    },
    {
      "cell_type": "code",
      "source": [
        "name = \"Vishal\"\n",
        "age = 28\n",
        "print(f\"My name is {name} and I am {age} years old.\")"
      ],
      "metadata": {
        "colab": {
          "base_uri": "https://localhost:8080/"
        },
        "id": "vHIcbFip3gJ-",
        "outputId": "8b66fb66-198d-490a-b594-c9d78b109f9b"
      },
      "execution_count": 42,
      "outputs": [
        {
          "output_type": "stream",
          "name": "stdout",
          "text": [
            "My name is Vishal and I am 28 years old.\n"
          ]
        }
      ]
    },
    {
      "cell_type": "code",
      "source": [
        "# 3. Write code to print all the pre-defined keywords in Python using the keyword library."
      ],
      "metadata": {
        "id": "lCcpLnwb33U_"
      },
      "execution_count": 43,
      "outputs": []
    },
    {
      "cell_type": "code",
      "source": [
        "import keyword\n",
        "print(keyword.kwlist)"
      ],
      "metadata": {
        "colab": {
          "base_uri": "https://localhost:8080/"
        },
        "id": "svaNKy7w4SpN",
        "outputId": "afa54aac-c512-4030-a0b9-4fabe2855dfb"
      },
      "execution_count": 44,
      "outputs": [
        {
          "output_type": "stream",
          "name": "stdout",
          "text": [
            "['False', 'None', 'True', 'and', 'as', 'assert', 'async', 'await', 'break', 'class', 'continue', 'def', 'del', 'elif', 'else', 'except', 'finally', 'for', 'from', 'global', 'if', 'import', 'in', 'is', 'lambda', 'nonlocal', 'not', 'or', 'pass', 'raise', 'return', 'try', 'while', 'with', 'yield']\n"
          ]
        }
      ]
    },
    {
      "cell_type": "code",
      "source": [
        "# 4. Write a program that checks if a given word is a Python Keyword."
      ],
      "metadata": {
        "id": "gFsQA8vj4e8-"
      },
      "execution_count": null,
      "outputs": []
    },
    {
      "cell_type": "code",
      "source": [
        "import keyword\n",
        "word = input(\"Enter a word: \")\n",
        "if keyword.iskeyword(word):\n",
        "    print(f\"{word} is a Python keyword.\")\n",
        "else:\n",
        "    print(f\"{word} is not a Python keyword.\")"
      ],
      "metadata": {
        "colab": {
          "base_uri": "https://localhost:8080/"
        },
        "id": "Nt19Uh7W42Gl",
        "outputId": "dd80fcfd-ae8c-4729-ef3e-bc63cc40a3fb"
      },
      "execution_count": 47,
      "outputs": [
        {
          "output_type": "stream",
          "name": "stdout",
          "text": [
            "Enter a word: Skill\n",
            "Skill is not a Python keyword.\n"
          ]
        }
      ]
    },
    {
      "cell_type": "code",
      "source": [
        "# 5. Create a list and tuple in Python, and demonstrate how attempting to change an element works differently for each."
      ],
      "metadata": {
        "id": "6vT1y9so5aJX"
      },
      "execution_count": null,
      "outputs": []
    },
    {
      "cell_type": "code",
      "source": [
        "my_list = [5, 6, 7]\n",
        "my_tuple = (5, 6, 7)\n",
        "\n",
        "# Modifying the list\n",
        "my_list[0] = 10\n",
        "print(\"Modified list:\", my_list)\n",
        "\n",
        "# Attempting to modify the tuple\n",
        "try:\n",
        "    my_tuple[0] = 10\n",
        "except TypeError as e:\n",
        "    print(\"Error:\", e)"
      ],
      "metadata": {
        "colab": {
          "base_uri": "https://localhost:8080/"
        },
        "id": "psBeEwAPwE8r",
        "outputId": "62d39956-af33-4ab5-a209-3f36bcb947f5"
      },
      "execution_count": 49,
      "outputs": [
        {
          "output_type": "stream",
          "name": "stdout",
          "text": [
            "Modified list: [10, 6, 7]\n",
            "Error: 'tuple' object does not support item assignment\n"
          ]
        }
      ]
    },
    {
      "cell_type": "code",
      "source": [
        "# 6. Write a function to demonstrate the behavior of mutable and immutable arguments."
      ],
      "metadata": {
        "id": "NCz6YbSKqap6"
      },
      "execution_count": null,
      "outputs": []
    },
    {
      "cell_type": "code",
      "source": [
        "def modify_list(my_list):\n",
        "    my_list.append(4)\n",
        "\n",
        "def modify_string(my_string):\n",
        "    my_string += \" World\"\n",
        "\n",
        "lst = [1, 2, 3]\n",
        "string = \"Hello\"\n",
        "\n",
        "modify_list(lst)\n",
        "modify_string(string)\n",
        "\n",
        "print(\"Modified list (mutable):\", lst)\n",
        "print(\"Modified string (immutable):\", string)"
      ],
      "metadata": {
        "colab": {
          "base_uri": "https://localhost:8080/"
        },
        "id": "rl3eWC8x6iae",
        "outputId": "666a865d-446d-4649-8596-4271cfb1e0cb"
      },
      "execution_count": 50,
      "outputs": [
        {
          "output_type": "stream",
          "name": "stdout",
          "text": [
            "Modified list (mutable): [1, 2, 3, 4]\n",
            "Modified string (immutable): Hello\n"
          ]
        }
      ]
    },
    {
      "cell_type": "code",
      "source": [
        "# 7. Write a program to demonstrate the use of logical operators."
      ],
      "metadata": {
        "id": "7ysOthAX6i70"
      },
      "execution_count": null,
      "outputs": []
    },
    {
      "cell_type": "code",
      "source": [
        "x = 5\n",
        "y = 10\n",
        "\n",
        "print(\"x > 0 and y > 0:\", x > 0 and y > 0)\n",
        "print(\"x > 0 or y < 0:\", x > 0 or y < 0)\n",
        "print(\"not(x > 0):\", not(x > 0))"
      ],
      "metadata": {
        "colab": {
          "base_uri": "https://localhost:8080/"
        },
        "id": "0rJHyp-v6jYR",
        "outputId": "7d77bdb3-32b8-4581-e53a-367bc2504ab7"
      },
      "execution_count": 51,
      "outputs": [
        {
          "output_type": "stream",
          "name": "stdout",
          "text": [
            "x > 0 and y > 0: True\n",
            "x > 0 or y < 0: True\n",
            "not(x > 0): False\n"
          ]
        }
      ]
    },
    {
      "cell_type": "code",
      "source": [
        "# 8. Write a Python program to convert user input from string to integer, float, and boolean types."
      ],
      "metadata": {
        "id": "ufC66A_d6j0z"
      },
      "execution_count": null,
      "outputs": []
    },
    {
      "cell_type": "code",
      "source": [
        "# 9. Write code to demonstrate type casting with list elements."
      ],
      "metadata": {
        "id": "7WreTRTP787t"
      },
      "execution_count": 60,
      "outputs": []
    },
    {
      "cell_type": "code",
      "source": [
        "my_list = [\"1\", \"2\", \"3\"]\n",
        "int_list = [int(i) for i in my_list]\n",
        "print(\"Original list:\", my_list)\n",
        "print(\"List after type casting:\", int_list)"
      ],
      "metadata": {
        "colab": {
          "base_uri": "https://localhost:8080/"
        },
        "id": "Vxg1k29V7V1R",
        "outputId": "963f84da-d665-4cae-a62b-124ccb46aea0"
      },
      "execution_count": 61,
      "outputs": [
        {
          "output_type": "stream",
          "name": "stdout",
          "text": [
            "Original list: ['1', '2', '3']\n",
            "List after type casting: [1, 2, 3]\n"
          ]
        }
      ]
    },
    {
      "cell_type": "code",
      "source": [
        "# 10. Write a Program that checks if a number is positive, negative, or zero."
      ],
      "metadata": {
        "id": "ShES8eVg7WKp"
      },
      "execution_count": null,
      "outputs": []
    },
    {
      "cell_type": "code",
      "source": [
        "# 11. Write a for loop to print numbers from 1 to 10."
      ],
      "metadata": {
        "id": "mpzfJl9Z7W5N"
      },
      "execution_count": null,
      "outputs": []
    },
    {
      "cell_type": "code",
      "source": [
        "for i in range(1, 11):\n",
        "    print(i)"
      ],
      "metadata": {
        "colab": {
          "base_uri": "https://localhost:8080/"
        },
        "id": "esz5pdYU9NBU",
        "outputId": "8aa79ab1-d5b7-4ade-8cd4-52749a2d0a5b"
      },
      "execution_count": 64,
      "outputs": [
        {
          "output_type": "stream",
          "name": "stdout",
          "text": [
            "1\n",
            "2\n",
            "3\n",
            "4\n",
            "5\n",
            "6\n",
            "7\n",
            "8\n",
            "9\n",
            "10\n"
          ]
        }
      ]
    },
    {
      "cell_type": "code",
      "source": [
        "# 12. Write a Python program to find the sum of all even numbers between 1 and 50."
      ],
      "metadata": {
        "id": "gVdDnTgw9RyL"
      },
      "execution_count": null,
      "outputs": []
    },
    {
      "cell_type": "code",
      "source": [
        "total = 0\n",
        "for i in range(1, 51):\n",
        "    if i % 2 == 0:\n",
        "        total += i\n",
        "print(\"Sum of even numbers between 1 and 50:\", total)"
      ],
      "metadata": {
        "colab": {
          "base_uri": "https://localhost:8080/"
        },
        "id": "zzZVTJi39frc",
        "outputId": "2b7a577a-514e-40e5-cfbf-f00c87190f2f"
      },
      "execution_count": 65,
      "outputs": [
        {
          "output_type": "stream",
          "name": "stdout",
          "text": [
            "Sum of even numbers between 1 and 50: 650\n"
          ]
        }
      ]
    },
    {
      "cell_type": "code",
      "source": [
        "# 13. Write a program to reverse a string using a while loop."
      ],
      "metadata": {
        "id": "uK1JlZWS9qOz"
      },
      "execution_count": null,
      "outputs": []
    },
    {
      "cell_type": "code",
      "source": [
        "string = \"Hello\"\n",
        "reversed_string = \"\"\n",
        "index = len(string) - 1\n",
        "\n",
        "while index >= 0:\n",
        "    reversed_string += string[index]\n",
        "    index -= 1\n",
        "\n",
        "print(\"Reversed string:\", reversed_string)"
      ],
      "metadata": {
        "colab": {
          "base_uri": "https://localhost:8080/"
        },
        "id": "Qp1gfOXW91th",
        "outputId": "9e9fc5f2-abc7-49fe-f813-23f5b5372baf"
      },
      "execution_count": 66,
      "outputs": [
        {
          "output_type": "stream",
          "name": "stdout",
          "text": [
            "Reversed string: olleH\n"
          ]
        }
      ]
    },
    {
      "cell_type": "code",
      "source": [
        "# 14. Write a Python program to calculate the factorial of a number provided by the user using a while loop."
      ],
      "metadata": {
        "id": "bqXR69b797i6"
      },
      "execution_count": null,
      "outputs": []
    },
    {
      "cell_type": "code",
      "source": [
        "num = int(input(\"Enter a number: \"))\n",
        "factorial = 1\n",
        "while num > 0:\n",
        "    factorial *= num\n",
        "    num -= 1\n",
        "print(\"Factorial:\", factorial)"
      ],
      "metadata": {
        "id": "pm-3Tq_1-SDE"
      },
      "execution_count": null,
      "outputs": []
    }
  ]
}